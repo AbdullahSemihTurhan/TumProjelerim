{
 "cells": [
  {
   "cell_type": "markdown",
   "metadata": {},
   "source": [
    "# try&except&else&finally"
   ]
  },
  {
   "cell_type": "code",
   "execution_count": null,
   "metadata": {},
   "outputs": [
    {
     "name": "stdout",
     "output_type": "stream",
     "text": [
      "Numaranizi Giriniz...10\n",
      "Tesekkurler\n",
      "Finally cagirildi\n"
     ]
    }
   ],
   "source": [
    "while True:\n",
    "    try:#numra istiyoruz tekrarlanacak yeri belirtiyoruz\n",
    "        benimInt = int(input(\"Numaranizi Giriniz...\"))\n",
    "    except:#hatali oldugunu belirtiyoruz\n",
    "        print(\"Lütfen Gercek bir Numara Giriniz\")\n",
    "        continue\n",
    "    else:#dogru ise burasi giriliyor\n",
    "        print(\"Tesekkurler\")\n",
    "        break\n",
    "    finally:# ne yazarsak yazalim finaly cagirilir\n",
    "            print(\"Finally cagirildi\")"
   ]
  },
  {
   "cell_type": "code",
   "execution_count": null,
   "metadata": {},
   "outputs": [],
   "source": []
  },
  {
   "cell_type": "code",
   "execution_count": null,
   "metadata": {},
   "outputs": [],
   "source": []
  }
 ],
 "metadata": {
  "kernelspec": {
   "display_name": "Python 3",
   "language": "python",
   "name": "python3"
  },
  "language_info": {
   "codemirror_mode": {
    "name": "ipython",
    "version": 3
   },
   "file_extension": ".py",
   "mimetype": "text/x-python",
   "name": "python",
   "nbconvert_exporter": "python",
   "pygments_lexer": "ipython3",
   "version": "3.8.5"
  }
 },
 "nbformat": 4,
 "nbformat_minor": 4
}
