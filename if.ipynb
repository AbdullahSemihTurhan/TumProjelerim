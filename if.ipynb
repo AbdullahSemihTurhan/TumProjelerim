{
 "cells": [
  {
   "cell_type": "code",
   "execution_count": 65,
   "metadata": {},
   "outputs": [
    {
     "name": "stdout",
     "output_type": "stream",
     "text": [
      "birinci sayiyi giriniz...100\n"
     ]
    }
   ],
   "source": [
    "bir=int(input(\"birinci sayiyi giriniz...\"))"
   ]
  },
  {
   "cell_type": "code",
   "execution_count": 66,
   "metadata": {},
   "outputs": [
    {
     "name": "stdout",
     "output_type": "stream",
     "text": [
      "birinci sayiyi giriniz...100\n"
     ]
    }
   ],
   "source": [
    "iki=int(input(\"birinci sayiyi giriniz...\"))"
   ]
  },
  {
   "cell_type": "code",
   "execution_count": 67,
   "metadata": {},
   "outputs": [
    {
     "name": "stdout",
     "output_type": "stream",
     "text": [
      "sayilar esit\n"
     ]
    }
   ],
   "source": [
    "if bir > iki:\n",
    "    print(\"birinci buyuk\")\n",
    "    a=5\n",
    "    b=4\n",
    "    print(a+b)\n",
    "elif iki > bir:\n",
    "    print(\"ikinci buyuk\")\n",
    "else:\n",
    "    print(\"sayilar esit\")\n"
   ]
  },
  {
   "cell_type": "code",
   "execution_count": 69,
   "metadata": {},
   "outputs": [],
   "source": [
    "ad = \"Abdullah Semih Turhan\""
   ]
  },
  {
   "cell_type": "code",
   "execution_count": 76,
   "metadata": {},
   "outputs": [
    {
     "name": "stdout",
     "output_type": "stream",
     "text": [
      "Var\n"
     ]
    }
   ],
   "source": [
    "if \"Semih\" in ad: #ad ın icinde Semih Var mi varsa yap,, harf olarak bakıyor\n",
    "    print(\"Var\")\n",
    "else:\n",
    "    print(\"yok\")#yoksa bunu yap"
   ]
  },
  {
   "cell_type": "code",
   "execution_count": 79,
   "metadata": {},
   "outputs": [],
   "source": [
    "benimsozluk = {\"anahtar\":100,\"elma\":150,\"karpuz\":500}"
   ]
  },
  {
   "cell_type": "code",
   "execution_count": 85,
   "metadata": {},
   "outputs": [
    {
     "name": "stdout",
     "output_type": "stream",
     "text": [
      "var\n"
     ]
    }
   ],
   "source": [
    "if \"elma\" in benimsozluk.keys(): #sozluklerde .keys var mı , anahtar kelime \n",
    "    print(\"var\")"
   ]
  },
  {
   "cell_type": "code",
   "execution_count": null,
   "metadata": {},
   "outputs": [],
   "source": []
  }
 ],
 "metadata": {
  "kernelspec": {
   "display_name": "Python 3",
   "language": "python",
   "name": "python3"
  },
  "language_info": {
   "codemirror_mode": {
    "name": "ipython",
    "version": 3
   },
   "file_extension": ".py",
   "mimetype": "text/x-python",
   "name": "python",
   "nbconvert_exporter": "python",
   "pygments_lexer": "ipython3",
   "version": "3.8.5"
  }
 },
 "nbformat": 4,
 "nbformat_minor": 4
}
