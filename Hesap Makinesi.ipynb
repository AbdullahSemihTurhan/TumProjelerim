{
 "cells": [
  {
   "cell_type": "code",
   "execution_count": 13,
   "metadata": {},
   "outputs": [
    {
     "name": "stdout",
     "output_type": "stream",
     "text": [
      "Birinici Sayiyi Giriniz..10\n",
      "Ikinci Sayiyi Giriniz..20\n",
      "İşleminizi Giriniz..+-*/+\n"
     ]
    },
    {
     "data": {
      "text/plain": [
       "'10+20=30'"
      ]
     },
     "execution_count": 13,
     "metadata": {},
     "output_type": "execute_result"
    }
   ],
   "source": [
    "def hesap(a,b,islem):\n",
    "    \n",
    "    if islem == \"+\":\n",
    "        return(str(a)+\"+\"+str(b)+\"=\"+str(a+b))   \n",
    "    if islem == \"-\":\n",
    "        return(str(a)+\"-\"+str(b)+\"=\"+str(a-b))\n",
    "    if islem == \"*\":\n",
    "        return(str(a)+\"*\"+str(b)+\"=\"+str(a*b))   \n",
    "    if islem == \"/\":\n",
    "        return(str(a)+\"/\"+str(b)+\"=\"+str(a/b))   \n",
    "  \n",
    "    \n",
    "a = int(input(\"Birinici Sayiyi Giriniz..\"))\n",
    "b =  int(input(\"Ikinci Sayiyi Giriniz..\"))\n",
    "islem = input(\"İşleminizi Giriniz..+-*/\")\n",
    "hesap(a,b,islem)"
   ]
  },
  {
   "cell_type": "code",
   "execution_count": null,
   "metadata": {},
   "outputs": [],
   "source": []
  },
  {
   "cell_type": "code",
   "execution_count": null,
   "metadata": {},
   "outputs": [],
   "source": []
  }
 ],
 "metadata": {
  "kernelspec": {
   "display_name": "Python 3",
   "language": "python",
   "name": "python3"
  },
  "language_info": {
   "codemirror_mode": {
    "name": "ipython",
    "version": 3
   },
   "file_extension": ".py",
   "mimetype": "text/x-python",
   "name": "python",
   "nbconvert_exporter": "python",
   "pygments_lexer": "ipython3",
   "version": "3.8.5"
  }
 },
 "nbformat": 4,
 "nbformat_minor": 4
}
